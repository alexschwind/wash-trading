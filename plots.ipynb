{
 "cells": [
  {
   "cell_type": "code",
   "execution_count": 21,
   "id": "a2234e83",
   "metadata": {},
   "outputs": [],
   "source": [
    "import matplotlib.pyplot as plt"
   ]
  },
  {
   "cell_type": "code",
   "execution_count": 22,
   "id": "8d1cdb31",
   "metadata": {},
   "outputs": [],
   "source": [
    "def create_plot(average_runtimes):\n",
    "    muted_colors = [\"#F3D561\", \"#E78543\",  \"#E36256\",]\n",
    "\n",
    "    # Create bar plot with muted red-orange-yellow theme\n",
    "    plt.figure(figsize=(8, 6))\n",
    "    bars = plt.bar(average_runtimes.keys(), average_runtimes.values(), color=muted_colors)\n",
    "\n",
    "    for bar, value in zip(bars, average_runtimes.values()):\n",
    "        minutes = int(value)\n",
    "        seconds = int(round((value - minutes) * 60))\n",
    "        label = f\"{minutes}:{seconds:02d}\"\n",
    "        plt.text(bar.get_x() + bar.get_width() / 2, bar.get_height() + 0.1, label,\n",
    "                ha='center', va='bottom', fontsize=10)\n",
    "\n",
    "    for spine in ['top', 'right', 'left', 'bottom']:\n",
    "        plt.gca().spines[spine].set_visible(False)\n",
    "\n",
    "    plt.ylabel('Average Execution Time (minutes)')\n",
    "    plt.grid(axis='y', linestyle='--', alpha=0.7)\n",
    "    plt.tight_layout()\n",
    "    plt.show()\n"
   ]
  },
  {
   "cell_type": "code",
   "execution_count": 31,
   "id": "9eec2516",
   "metadata": {},
   "outputs": [
    {
     "name": "stdout",
     "output_type": "stream",
     "text": [
      "5.490435490435491\n",
      "4.813999021047479\n"
     ]
    }
   ],
   "source": [
    "scc_runtimes = {\n",
    "    'R Original': 12 + 43/60,      # 12 minutes 43 seconds\n",
    "    'Python (Initial Rewrite)': 5 + 14/60,    # 5 minutes 14 seconds\n",
    "    'Python (Parallel)': 0 + 10/60        # 10 seconds\n",
    "}\n",
    "\n",
    "volume_matching = {\n",
    "    \"R Original\": 32 + 47/60,\n",
    "    \"Python (Parallel)\": 7 + 0.92,\n",
    "    \"Python (Parallel & Reordering)\": 6.81\n",
    "}\n",
    "\n",
    "total = {\n",
    "    \"R Original\": 44 + 58/60,\n",
    "    \"Python (Final)\": 8.19,\n",
    "}\n",
    "\n",
    "print( (44 + 58/60) / (8.19) )\n",
    "\n",
    "print( (32 + 47/60) / (6.81) )\n",
    "\n"
   ]
  },
  {
   "cell_type": "code",
   "execution_count": null,
   "id": "5c46b756",
   "metadata": {},
   "outputs": [],
   "source": [
    "create_plot(scc_runtimes)\n",
    "create_plot(volume_matching)\n",
    "create_plot(total)"
   ]
  }
 ],
 "metadata": {
  "kernelspec": {
   "display_name": ".venv",
   "language": "python",
   "name": "python3"
  },
  "language_info": {
   "codemirror_mode": {
    "name": "ipython",
    "version": 3
   },
   "file_extension": ".py",
   "mimetype": "text/x-python",
   "name": "python",
   "nbconvert_exporter": "python",
   "pygments_lexer": "ipython3",
   "version": "3.12.10"
  }
 },
 "nbformat": 4,
 "nbformat_minor": 5
}
