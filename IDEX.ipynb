{
 "cells": [
  {
   "cell_type": "markdown",
   "id": "2dede0cb",
   "metadata": {},
   "source": [
    "# Preprocessing"
   ]
  },
  {
   "cell_type": "code",
   "id": "621e236d",
   "metadata": {
    "jupyter": {
     "is_executing": true
    },
    "ExecuteTime": {
     "start_time": "2025-07-09T15:01:09.447105Z"
    }
   },
   "source": [
    "from preprocessing import preprocessing\n",
    "\n",
    "trades = preprocessing(\"data/IDEXTrades.csv\")\n",
    "trades.head()"
   ],
   "outputs": [],
   "execution_count": null
  },
  {
   "cell_type": "markdown",
   "id": "580dcb07",
   "metadata": {},
   "source": [
    "# Algorithm"
   ]
  },
  {
   "cell_type": "markdown",
   "id": "225a71c3",
   "metadata": {},
   "source": [
    "## Find important Ciycles"
   ]
  },
  {
   "cell_type": "code",
   "execution_count": 6,
   "id": "938e1002",
   "metadata": {},
   "outputs": [],
   "source": [
    "import matplotlib.pyplot as plt\n",
    "import time\n",
    "from scc_algorithm import *"
   ]
  },
  {
   "cell_type": "code",
   "execution_count": 7,
   "id": "eaadc23b",
   "metadata": {},
   "outputs": [],
   "source": [
    "def benchmark_algorithms(df, runs=3):\n",
    "    sequential_times = []\n",
    "    parallel_times = []\n",
    "\n",
    "    for _ in range(runs):\n",
    "        start = time.perf_counter()\n",
    "        scc_algo_seq(df.copy())\n",
    "        sequential_times.append(time.perf_counter() - start)\n",
    "\n",
    "        start = time.perf_counter()\n",
    "        scc_algo_parallel(df.copy())\n",
    "        parallel_times.append(time.perf_counter() - start)\n",
    "\n",
    "    return sequential_times, parallel_times"
   ]
  },
  {
   "cell_type": "code",
   "execution_count": null,
   "id": "3eb5a3af",
   "metadata": {},
   "outputs": [
    {
     "name": "stderr",
     "output_type": "stream",
     "text": [
      "Processing tokens: 100%|██████████| 1199/1199 [05:37<00:00,  3.55it/s]\n",
      "Processing tokens:   0%|          | 3/1199 [00:19<2:11:40,  6.61s/it]\n"
     ]
    }
   ],
   "source": [
    "seq_times, par_times = benchmark_algorithms(trades, runs=5)\n",
    "\n",
    "# Plot results\n",
    "plt.figure(figsize=(10, 6))\n",
    "plt.plot(seq_times, label=\"Sequential\", marker='o')\n",
    "plt.plot(par_times, label=\"Parallel\", marker='o')\n",
    "plt.xlabel(\"Run\")\n",
    "plt.ylabel(\"Execution Time (seconds)\")\n",
    "plt.title(\"SCC Algorithm Performance: Sequential vs Parallel\")\n",
    "plt.legend()\n",
    "plt.grid(True)\n",
    "plt.tight_layout()\n",
    "plt.show()"
   ]
  },
  {
   "cell_type": "markdown",
   "id": "10276e84",
   "metadata": {},
   "source": [
    "## Volume Matching"
   ]
  },
  {
   "cell_type": "code",
   "execution_count": 17,
   "id": "44dc639e",
   "metadata": {},
   "outputs": [],
   "source": [
    "import numpy as np\n",
    "from collections import defaultdict"
   ]
  },
  {
   "cell_type": "code",
   "execution_count": 18,
   "id": "91f29004",
   "metadata": {},
   "outputs": [],
   "source": [
    "def seqlast(start: float, stop: float, step: int) -> list:\n",
    "    \"\"\"Mimics seqlast in R (sequence from start to stop, step size in seconds)\"\"\"\n",
    "    seq = list(np.arange(start, stop + step, step))\n",
    "    seq[-1] = stop\n",
    "    return seq"
   ]
  },
  {
   "cell_type": "code",
   "execution_count": 19,
   "id": "b1e01144",
   "metadata": {},
   "outputs": [],
   "source": [
    "window_sizes_in_seconds = [3600, 86400, 604800]\n",
    "ether = False"
   ]
  },
  {
   "cell_type": "code",
   "execution_count": 20,
   "id": "fbc4e4c2",
   "metadata": {},
   "outputs": [],
   "source": [
    "trades[\"wash_label\"] = pd.NA\n",
    "window_start = trades[\"cut\"].min()\n",
    "relevant_scc = relevant[\"scc_hash\"].to_list()\n",
    "wash_trades = defaultdict(lambda: defaultdict(list))"
   ]
  },
  {
   "cell_type": "code",
   "execution_count": 21,
   "id": "f420a71a",
   "metadata": {},
   "outputs": [],
   "source": [
    "def detect_label_wash_trades(df: pd.DataFrame, margin: float = 0.01) -> pd.DataFrame:\n",
    "    df = df.copy().reset_index(drop=True)\n",
    "    \n",
    "    buyers = df[\"buyer\"]\n",
    "    sellers = df[\"seller\"]\n",
    "    amounts = df[\"amount\"]\n",
    "\n",
    "    balance_map = defaultdict(float)\n",
    "    trade_amounts = []\n",
    "\n",
    "    # Step 1: build balanceMap and track amounts\n",
    "    for i in range(len(df)):\n",
    "        amt = amounts[i]\n",
    "        trade_amounts.append(amt)\n",
    "        balance_map[buyers[i]] += amt\n",
    "        balance_map[sellers[i]] -= amt\n",
    "\n",
    "    # Step 2: reverse iterate and test if current prefix is a wash trade\n",
    "    for idx in reversed(range(1, len(df))):\n",
    "        balances = np.array(list(balance_map.values()))\n",
    "        mean_trade_vol = np.mean(trade_amounts)\n",
    "        if mean_trade_vol == 0:\n",
    "            break  # avoid division by zero\n",
    "\n",
    "        normed_balances = np.abs(balances / mean_trade_vol)\n",
    "        if np.all(normed_balances <= margin):\n",
    "            df.loc[:idx, \"wash_label\"] = True\n",
    "            return df\n",
    "\n",
    "        # Remove trade at idx\n",
    "        amt = amounts[idx]\n",
    "        trade_amounts.pop(idx)\n",
    "        balance_map[buyers[idx]] -= amt\n",
    "        balance_map[sellers[idx]] += amt\n",
    "\n",
    "    return df"
   ]
  },
  {
   "cell_type": "code",
   "execution_count": 22,
   "id": "5d0bc705",
   "metadata": {},
   "outputs": [
    {
     "name": "stderr",
     "output_type": "stream",
     "text": [
      "Processing SCCs: 100%|██████████| 6/6 [00:00<00:00, 10.61it/s]\n"
     ]
    }
   ],
   "source": [
    "win_idx = 1\n",
    "with tqdm(total=len(window_sizes_in_seconds) * len(relevant), desc=\"Processing SCCs\") as pbar:\n",
    "    for window_size in window_sizes_in_seconds:\n",
    "        breaks = seqlast(window_start, trades[\"timestamp\"].max(), window_size)\n",
    "\n",
    "        scc_idx = 1\n",
    "        for scc_id in relevant_scc:\n",
    "            scc_traders = global_scc_traders_map[scc_id]\n",
    "            scc_trades = trades[\n",
    "                (trades[\"eth_buyer_id\"].isin(scc_traders)) &\n",
    "                (trades[\"eth_seller_id\"].isin(scc_traders)) &\n",
    "                (trades[\"wash_label\"].isna() | (trades[\"wash_label\"] == False))\n",
    "            ].sort_values(\"cut\")\n",
    "\n",
    "            if scc_trades.empty:\n",
    "                wash_trades[scc_id][str(window_size)] = []\n",
    "                pbar.update(1)\n",
    "                continue\n",
    "\n",
    "            # Mark trades as \"checked\"\n",
    "            trades.loc[trades[\"transactionHash\"].isin(scc_trades[\"transactionHash\"]), \"wash_label\"] = False\n",
    "\n",
    "            if ether:\n",
    "                temp_trades = scc_trades[[\n",
    "                    \"transactionHash\", \"token\", \"date\", \"timestamp\", \n",
    "                    \"eth_buyer\", \"eth_seller\", \"trade_amount_eth\", \"trade_amount_dollar\", \"wash_label\"\n",
    "                ]].copy()\n",
    "                temp_trades.rename(columns={\n",
    "                    \"eth_buyer\": \"buyer\",\n",
    "                    \"eth_seller\": \"seller\",\n",
    "                    \"trade_amount_eth\": \"amount\"\n",
    "                }, inplace=True)\n",
    "            else:\n",
    "                temp_trades = scc_trades[[\n",
    "                    \"transactionHash\", \"token\", \"date\", \"timestamp\", \n",
    "                    \"eth_seller\", \"eth_buyer\", \"trade_amount_token\", \"trade_amount_dollar\", \"wash_label\"\n",
    "                ]].copy()\n",
    "                temp_trades.rename(columns={\n",
    "                    \"eth_seller\": \"buyer\",\n",
    "                    \"eth_buyer\": \"seller\",\n",
    "                    \"trade_amount_token\": \"amount\"\n",
    "                }, inplace=True)\n",
    "\n",
    "            # Create window labels (right-exclusive, left-inclusive)\n",
    "            temp_trades[\"window\"] = pd.cut(\n",
    "                temp_trades[\"timestamp\"],\n",
    "                bins=breaks,\n",
    "                right=False,\n",
    "                include_lowest=True,\n",
    "            )\n",
    "            # temp trades ist correct\n",
    "\n",
    "            # Group by token and time window\n",
    "            grouped = temp_trades.groupby([\"token\", \"window\"], observed=True)\n",
    "\n",
    "            scc_wash_trades_all = []\n",
    "            for (token, window), group in grouped:\n",
    "                labeled_group = detect_label_wash_trades(group.copy())\n",
    "                scc_wash_trades_all.append(labeled_group)\n",
    "\n",
    "            # Store\n",
    "            wash_trades[scc_id][str(window_size)] = scc_wash_trades_all\n",
    "\n",
    "            # Update labels in main trades DataFrame\n",
    "            checked_trades = pd.concat(scc_wash_trades_all, ignore_index=True)\n",
    "\n",
    "            true_hashes = checked_trades[checked_trades[\"wash_label\"] == True][\"transactionHash\"]\n",
    "            trades.loc[trades[\"transactionHash\"].isin(true_hashes), \"wash_label\"] = True\n",
    "\n",
    "            pbar.update(1)\n",
    "            scc_idx += 1\n",
    "        win_idx += 1"
   ]
  },
  {
   "cell_type": "code",
   "execution_count": 23,
   "id": "59e0dec0",
   "metadata": {},
   "outputs": [
    {
     "data": {
      "text/plain": [
       "{'28350215842494700130262459757615087967611956572884224275235703561513727331982': ['0x0fdabcff4e4c7107d07ce7ec765b64bf2ad4581f',\n",
       "  '0x5186fcad00a548b01f5274f686132644e7c6748b'],\n",
       " '90762889311631373556662398140887537943631964536540503316693059694673431708751': ['0x96b0e9762b3fb99405bc416d8c58d2a47b4b27ad',\n",
       "  '0xa78dec35b794ef1ba2da9d3eed26858b344e597a']}"
      ]
     },
     "execution_count": 23,
     "metadata": {},
     "output_type": "execute_result"
    }
   ],
   "source": [
    "address_clusters = {}\n",
    "\n",
    "for scc_id in relevant_scc:\n",
    "    trader_ids = global_scc_traders_map.get(scc_id, [])\n",
    "    addresses = global_trader_hashes[global_trader_hashes[\"trader_id\"].isin(trader_ids)][\"trader_address\"].tolist()\n",
    "    address_clusters[str(scc_id)] = addresses\n",
    "\n",
    "address_clusters"
   ]
  },
  {
   "cell_type": "code",
   "execution_count": null,
   "id": "4beff218",
   "metadata": {},
   "outputs": [],
   "source": []
  }
 ],
 "metadata": {
  "kernelspec": {
   "display_name": ".venv",
   "language": "python",
   "name": "python3"
  },
  "language_info": {
   "codemirror_mode": {
    "name": "ipython",
    "version": 3
   },
   "file_extension": ".py",
   "mimetype": "text/x-python",
   "name": "python",
   "nbconvert_exporter": "python",
   "pygments_lexer": "ipython3",
   "version": "3.12.10"
  }
 },
 "nbformat": 4,
 "nbformat_minor": 5
}
